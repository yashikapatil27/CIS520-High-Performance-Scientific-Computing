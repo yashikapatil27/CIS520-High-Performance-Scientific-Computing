{
 "cells": [
  {
   "cell_type": "markdown",
   "metadata": {},
   "source": [
    "### Runtime on Laptop"
   ]
  },
  {
   "cell_type": "code",
   "execution_count": 7,
   "metadata": {},
   "outputs": [
    {
     "name": "stdout",
     "output_type": "stream",
     "text": [
      "              N  Mean Error  Mean Runtime\n",
      "0  1.000000e+07    0.000663         0.743\n",
      "1  1.000000e+08    0.000152         6.151\n",
      "2  1.000000e+09    0.000017        53.066\n"
     ]
    }
   ],
   "source": [
    "import os\n",
    "import pandas as pd\n",
    "\n",
    "data_file = 'Problem2_data_files'\n",
    "\n",
    "mean_errors = {}\n",
    "mean_runtimes = {}\n",
    "mean_error_values = []\n",
    "mean_runtime_values = []\n",
    "\n",
    "for N in range(1, 11):\n",
    "    filename = f'timing_laptop{N}.dat' \n",
    "    filepath = os.path.join(data_file, filename)\n",
    "    with open(filepath, 'r') as file:\n",
    "        for line in file:\n",
    "            N, error, runtime = map(float, line.split())\n",
    "            if N not in mean_errors:\n",
    "                mean_errors[N] = []\n",
    "                mean_runtimes[N] = []\n",
    "            mean_errors[N].append(error)\n",
    "            mean_runtimes[N].append(runtime)\n",
    "\n",
    "for N, errors in sorted(mean_errors.items()):\n",
    "    mean_error = sum(errors) / len(errors)\n",
    "    mean_error_values.append(mean_error)\n",
    "\n",
    "for N, runtimes in sorted(mean_runtimes.items()):\n",
    "    mean_runtime = sum(runtimes) / len(runtimes)\n",
    "    mean_runtime_values.append(mean_runtime)\n",
    "\n",
    "#for N, mean_error, mean_runtime in zip(sorted(mean_errors), mean_error_values, mean_runtime_values):\n",
    "#    print(f'N: {N}\\nMean error: {mean_error}\\nMean runtime: {mean_runtime}')\n",
    "\n",
    "data = {\n",
    "    'N': sorted(mean_errors),\n",
    "    'Mean Error': mean_error_values,\n",
    "    'Mean Runtime': mean_runtime_values\n",
    "}\n",
    "\n",
    "df = pd.DataFrame(data)\n",
    "print(df)\n"
   ]
  },
  {
   "cell_type": "code",
   "execution_count": 8,
   "metadata": {},
   "outputs": [
    {
     "name": "stdout",
     "output_type": "stream",
     "text": [
      "              N  Mean Error  Mean Runtime\n",
      "0  1.000000e+07    0.000457          0.21\n",
      "1  1.000000e+08    0.000104          2.14\n",
      "2  1.000000e+09    0.000045         21.17\n"
     ]
    }
   ],
   "source": [
    "import os\n",
    "import pandas as pd\n",
    "\n",
    "data_file = 'Problem2_data_files'\n",
    "\n",
    "mean_errors = {}\n",
    "mean_runtimes = {}\n",
    "mean_error_values = []\n",
    "mean_runtime_values = []\n",
    "\n",
    "for N in range(1, 11):\n",
    "    filename = f'timing_anvil{N}.dat' \n",
    "    filepath = os.path.join(data_file, filename)\n",
    "    with open(filepath, 'r') as file:\n",
    "        for line in file:\n",
    "            N, error, runtime = map(float, line.split())\n",
    "            if N not in mean_errors:\n",
    "                mean_errors[N] = []\n",
    "                mean_runtimes[N] = []\n",
    "            mean_errors[N].append(error)\n",
    "            mean_runtimes[N].append(runtime)\n",
    "\n",
    "for N, errors in sorted(mean_errors.items()):\n",
    "    mean_error = sum(errors) / len(errors)\n",
    "    mean_error_values.append(mean_error)\n",
    "\n",
    "for N, runtimes in sorted(mean_runtimes.items()):\n",
    "    mean_runtime = sum(runtimes) / len(runtimes)\n",
    "    mean_runtime_values.append(mean_runtime)\n",
    "\n",
    "#for N, mean_error, mean_runtime in zip(sorted(mean_errors), mean_error_values, mean_runtime_values):\n",
    "#    print(f'N: {N}\\nMean error: {mean_error}\\nMean runtime: {mean_runtime}')\n",
    "\n",
    "data = {\n",
    "    'N': sorted(mean_errors),\n",
    "    'Mean Error': mean_error_values,\n",
    "    'Mean Runtime': mean_runtime_values\n",
    "}\n",
    "\n",
    "df = pd.DataFrame(data)\n",
    "print(df)\n"
   ]
  },
  {
   "cell_type": "code",
   "execution_count": null,
   "metadata": {},
   "outputs": [],
   "source": []
  }
 ],
 "metadata": {
  "kernelspec": {
   "display_name": "base",
   "language": "python",
   "name": "python3"
  },
  "language_info": {
   "codemirror_mode": {
    "name": "ipython",
    "version": 3
   },
   "file_extension": ".py",
   "mimetype": "text/x-python",
   "name": "python",
   "nbconvert_exporter": "python",
   "pygments_lexer": "ipython3",
   "version": "3.11.4"
  }
 },
 "nbformat": 4,
 "nbformat_minor": 2
}
